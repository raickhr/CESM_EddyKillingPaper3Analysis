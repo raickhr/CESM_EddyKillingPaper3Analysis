{
 "cells": [
  {
   "cell_type": "code",
   "execution_count": null,
   "metadata": {},
   "outputs": [],
   "source": [
    "from netCDF4 import Dataset\n",
    "import numpy as np\n",
    "import matplotlib.pyplot as plt\n",
    "from scipy import signal\n",
    "%matplotlib inline"
   ]
  },
  {
   "cell_type": "code",
   "execution_count": null,
   "metadata": {},
   "outputs": [],
   "source": [
    "x = np.linspace(-np.pi,np.pi-(2*np.pi/500),500)\n",
    "y = np.linspace(-np.pi,np.pi-(2*np.pi/500),500)\n",
    "\n",
    "dx = x[1] - x[0]\n",
    "XX, YY = np.meshgrid(x,y)\n",
    "\n",
    "a = 3\n",
    "b = 4\n",
    "\n",
    "c = 5\n",
    "d = 12\n",
    "\n",
    "fxy = a*np.sin(XX)/2000# + b*YY/2000\n",
    "f2xy = c*np.cos(XX)/2000# + d*YY/2000"
   ]
  },
  {
   "cell_type": "code",
   "execution_count": null,
   "metadata": {},
   "outputs": [],
   "source": [
    "ell=500\n",
    "half = ell//2\n",
    "xp = np.arange(-half, half+dx, dx)\n",
    "xx, yy = np.meshgrid(xp, xp)\n",
    "\n",
    "area = dx**2 * np.ones(xx.shape)\n",
    "r = np.sqrt(xx**2 + yy**2)\n",
    "\n",
    "kernel = np.empty_like(r)\n",
    "\n",
    "kernel[r > ell/2] = 0.\n",
    "kernel[r <= ell/2] = 1.\n",
    "area[r > ell/2]  = 0\n",
    "print(np.sum(area), np.pi*(ell/2)**2)\n",
    "kernel /= np.sum(area)\n",
    "plt.pcolormesh(xx, yy, kernel)\n",
    "plt.colorbar()\n",
    "\n",
    "\n",
    "print(np.sum(kernel*area), np.sum(kernel))"
   ]
  },
  {
   "cell_type": "code",
   "execution_count": null,
   "metadata": {},
   "outputs": [],
   "source": [
    "f1bar = signal.convolve2d(fxy, kernel*dx**2, mode='same')\n",
    "f2bar = signal.convolve2d(f2xy, kernel*dx**2, mode='same')\n",
    "f1f2bar = signal.convolve2d(fxy*f2xy, kernel*dx**2, mode='same')"
   ]
  },
  {
   "cell_type": "code",
   "execution_count": null,
   "metadata": {},
   "outputs": [],
   "source": [
    "fxy.shape, f1bar.shape, kernel.shape"
   ]
  },
  {
   "cell_type": "code",
   "execution_count": null,
   "metadata": {},
   "outputs": [],
   "source": [
    "f2xy.shape, f2bar.shape, kernel.shape, "
   ]
  },
  {
   "cell_type": "code",
   "execution_count": null,
   "metadata": {},
   "outputs": [],
   "source": [
    "s, e = 63,500-63\n",
    "f1 = fxy#[s:e, s:e]\n",
    "f2 = f2xy#[s:e, s:e]\n",
    "v=np.max(f1)\n",
    "print(0.01*v)\n",
    "plt.pcolormesh(fxy[s:e, s:e]-f1bar[s:e, s:e], cmap='seismic', vmin=-v, vmax=v)\n",
    "print(np.max(f1[s:e, s:e]-f1bar[s:e, s:e]), np.min(f1[s:e, s:e]-f1bar[s:e, s:e]))\n",
    "plt.colorbar()"
   ]
  },
  {
   "cell_type": "code",
   "execution_count": null,
   "metadata": {},
   "outputs": [],
   "source": [
    "# def myConv1d(f, kernel, dx):\n",
    "#     xlen = len(f)\n",
    "#     klen = len(kernel)\n",
    "#     fbar = np.zeros(f.shape, dtype=float)\n",
    "#     for i in range(xlen):\n",
    "#         shift = -i + klen//2\n",
    "#         fbar[i] = np.sum(np.roll(f, shift, axis=0)[0:klen] *  kernel * dx)\n",
    "#     return fbar\n",
    "\n",
    "\n",
    "# x = np.linspace(-1000.,1000.,500)\n",
    "# dx = x[1] - x[0]\n",
    "# p = 5*x + 6\n",
    "# kernel = np.ones(50)/(50*dx)\n",
    "# print(np.sum(kernel*dx), 50*dx)\n",
    "\n",
    "# pbar = signal.convolve(p, kernel*dx, mode='same')\n",
    "# myPbar = myConv1d(p, kernel, dx)\n",
    "\n",
    "# plt.plot(p)\n",
    "# plt.plot(pbar)\n",
    "# plt.plot(myPbar)"
   ]
  },
  {
   "cell_type": "code",
   "execution_count": null,
   "metadata": {},
   "outputs": [],
   "source": [
    "# def myConv2d(f, kernel, dx):\n",
    "#     ylen, xlen = len(f)\n",
    "#     kylen, kxlen = len(kernel)\n",
    "#     fbar = np.zeros(f.shape, dtype=float)\n",
    "#     for j in range(ylen):\n",
    "#         for i in range(xlen):\n",
    "#             shift_j = -j + kylen//2\n",
    "#             shift_i = -i + kxlen//2\n",
    "#             fbar[j,i] = np.sum(np.roll(f, (shift_j, shift_i), axis=(0,1))[0:kylen,0:kxlen] *  kernel * dx)\n",
    "#     return fbar\n",
    "\n",
    "\n",
    "# x = np.linspace(-1000.,1000.,500)\n",
    "# y = np.linspace(-1000.,1000.,500)\n",
    "\n",
    "# dx = x[1] - x[0]\n",
    "# XX, YY = np.meshgrid(x,y)\n",
    "\n",
    "# a = 3\n",
    "# b = 4\n",
    "\n",
    "# c = 5\n",
    "# d = 12\n",
    "\n",
    "# fxy = a*XX + b*YY\n",
    "# f2xy = c*XX + d*YY"
   ]
  },
  {
   "cell_type": "code",
   "execution_count": null,
   "metadata": {},
   "outputs": [],
   "source": [
    "def GetGradientPOP2(Array2D, DXU, DYU, UAREA):\n",
    "    p = -1\n",
    "    m = 1\n",
    "    x = 1\n",
    "    y = 0\n",
    "    topRight = 0.25*(Array2D + np.roll(Array2D, p, axis=x) +\\\n",
    "               np.roll(Array2D, (p,p), axis=(y,x)) +\\\n",
    "               np.roll(Array2D, p, axis=y))\n",
    "    \n",
    "    topLeft = 0.25*(Array2D + np.roll(Array2D, p, axis=y) +\\\n",
    "               np.roll(Array2D, (p,m), axis=(y,x)) +\\\n",
    "               np.roll(Array2D, m, axis=x))\n",
    "    \n",
    "    bottomRight = 0.25*(Array2D + np.roll(Array2D, p, axis=x) +\\\n",
    "               np.roll(Array2D, (m,p), axis=(y,x)) +\\\n",
    "               np.roll(Array2D, m, axis=y))\n",
    "    \n",
    "    bottomLeft = 0.25*(Array2D + np.roll(Array2D, m, axis=x) +\\\n",
    "               np.roll(Array2D, (m,m), axis=(y,x)) +\\\n",
    "               np.roll(Array2D, m, axis=y))\n",
    "    \n",
    "    gradx = 0.5*(topRight + bottomRight - topLeft - bottomLeft)/DX\n",
    "    grady = 0.5*(topRight + topLeft - bottomRight - bottomLeft)/DY\n",
    "    \n",
    "    return gradx, grady\n",
    "\n",
    "def GetGradient(phi, DX, DY, UAREA):\n",
    "    dx_phi, dy_phi = GetGradientPOP2(phi, DX, DY, UAREA)     \n",
    "    return dx_phi, dy_phi\n",
    "\n",
    "\n",
    "def getModelVal(f1_bar, f2_bar, DX, DY, ell):\n",
    "    C_2 = 0.125\n",
    "    dx_f1, dy_f1 = GetGradient(f1_bar, DX, DY, DX*DY)\n",
    "    dx_f2, dy_f2 = GetGradient(f2_bar, DX, DY, DX*DY)\n",
    "\n",
    "    model = dx_f1 * dx_f2 +\\\n",
    "            dy_f1 * dy_f2\n",
    "\n",
    "    model *= 1/2 * (ell)**2 * C_2\n",
    "\n",
    "    return model"
   ]
  },
  {
   "cell_type": "code",
   "execution_count": null,
   "metadata": {},
   "outputs": [],
   "source": [
    "DX = np.full(XX.shape, dx)\n",
    "DY = np.full(XX.shape, dx)\n",
    "\n",
    "truth = f1f2bar - f1bar*f2bar\n",
    "model = getModelVal(f1bar, f2bar, DX, DY, 500)"
   ]
  },
  {
   "cell_type": "code",
   "execution_count": null,
   "metadata": {},
   "outputs": [],
   "source": [
    "fig, ax = plt.subplots(nrows=1, ncols=2, figsize=(12,4))\n",
    "\n",
    "v = np.max(truth)\n",
    "n=70\n",
    "x1,x2 = n,500-n\n",
    "y1,y2 = n,500-n\n",
    "cmap = plt.get_cmap('seismic')\n",
    "p = ax[0].pcolormesh(truth[x1:x2, y1:y2], cmap=cmap, vmin=-v, vmax=v)\n",
    "plt.colorbar(p, ax=ax[0])\n",
    "\n",
    "p = ax[1].pcolormesh(model[x1:x2, y1:y2], cmap=cmap, vmin=-v, vmax=v)\n",
    "plt.colorbar(p, ax=ax[1])"
   ]
  }
 ],
 "metadata": {
  "kernelspec": {
   "display_name": "netcdf_env",
   "language": "python",
   "name": "netcdf_env"
  },
  "language_info": {
   "codemirror_mode": {
    "name": "ipython",
    "version": 3
   },
   "file_extension": ".py",
   "mimetype": "text/x-python",
   "name": "python",
   "nbconvert_exporter": "python",
   "pygments_lexer": "ipython3",
   "version": "3.9.12"
  }
 },
 "nbformat": 4,
 "nbformat_minor": 2
}
