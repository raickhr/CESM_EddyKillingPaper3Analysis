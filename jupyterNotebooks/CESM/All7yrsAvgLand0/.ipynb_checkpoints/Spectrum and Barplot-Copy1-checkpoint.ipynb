{
 "cells": [
  {
   "cell_type": "code",
   "execution_count": 1,
   "metadata": {},
   "outputs": [],
   "source": [
    "import numpy as np\n",
    "from netCDF4 import Dataset\n",
    "import matplotlib.pyplot as plt\n",
    "import matplotlib\n",
    "from matplotlib.ticker import FormatStrFormatter\n",
    "from matplotlib import ticker, axis\n",
    "\n",
    "\n",
    "fldLoc = '/scratch/srai6/CESM_HighRes/fromNCCS/QuikSCAT/'\n",
    "gridFile = fldLoc + 'GlobalGrid_latlon.nc'\n",
    "maskFile = fldLoc + 'RegionMasks.nc'\n",
    "dsFile = fldLoc + 'averagedData_KE.nc'\n",
    "TKEFile = fldLoc + 'averagedInput.nc'\n",
    "\n",
    "\n",
    "fldLoc2 = '/scratch/srai6/CESM_HighRes/fromNCCS/POP/geosWeeklyAvgOutput/'\n",
    "gridFile2 = fldLoc2 + 'newGlobalGrid_tripolePOP_0.1deg.nc'\n",
    "maskFile2 = fldLoc2 + 'RegionMasks.nc'\n",
    "dsFile2 = fldLoc2 + 'avgCoarseGrainKE.nc'\n",
    "TKE2File = fldLoc2 + 'averagedInput.nc'\n",
    "\n",
    "\n",
    "\n",
    "maskList = ['ACC', 'SouthernOcean', 'Global',\n",
    "            'Gulf', 'Kuroshio', 'BrazilACC', 'Agulhas'\n",
    "            ]\n",
    "\n",
    "nMasks = len(maskList)\n",
    "\n",
    "RegionName = {'Gulf': 'Gulf Stream',\n",
    "              'Kuroshio': 'Kuroshio',\n",
    "              'BrazilACC': 'Brazil Malvinas',\n",
    "              'Agulhas': 'Agulhas',\n",
    "              'ACC': 'ACC',\n",
    "              'SouthernOcean': 'Southern Ocean',\n",
    "              'Global': 'Global', }\n",
    "\n",
    "ds = Dataset(dsFile)\n",
    "gridDs = Dataset(gridFile)\n",
    "maskDs = Dataset(maskFile)\n",
    "TKEds = Dataset(TKEFile)\n",
    "\n",
    "\n",
    "ds2 = Dataset(dsFile2)\n",
    "gridDs2 = Dataset(gridFile2)\n",
    "maskDs2 = Dataset(maskFile2)\n",
    "TKEds2 = Dataset(TKE2File)\n",
    "\n",
    "ULAT = np.array(gridDs.variables['ULAT']) * 180.0/np.pi\n",
    "readUAREA = np.array(gridDs.variables['UAREA'])\n",
    "MeanKE = np.array(ds.variables['MeanKE'])\n",
    "\n",
    "ULAT_pop = np.array(gridDs2.variables['ULAT'])\n",
    "readUAREA_pop = np.array(gridDs2.variables['UAREA'])*1e-4\n",
    "MeanKE_pop = np.array(ds2.variables['KE'])*1e-4\n",
    "\n",
    "(Ylen, Xlen) = np.shape(readUAREA)\n",
    "(Ylen2, Xlen2) = np.shape(readUAREA_pop)\n",
    "\n",
    "TKE = np.zeros((1, Ylen, Xlen), dtype =float)\n",
    "TKE[0,:,:] = np.array(TKEds.variables['TKE'])\n",
    "\n",
    "TKE_pop = np.zeros((1, Ylen2, Xlen2), dtype =float)\n",
    "TKE_pop[0,:,:] = np.array(TKEds2.variables['TKE'])*1e-4\n",
    "\n",
    "MeanKE = np.concatenate((TKE, MeanKE),axis = 0) * 0.5\n",
    "MeanKE_pop = np.concatenate((TKE_pop, MeanKE_pop),axis = 0) * 0.5\n",
    "\n",
    "POP_minEP_ell = {'Gulf': 220,\n",
    "              'Kuroshio': 320,\n",
    "              'BrazilACC': 240,\n",
    "              'Agulhas': 280,\n",
    "              'ACC': 240,\n",
    "              'SouthernOcean': 240,\n",
    "              'Global': 180}\n",
    "\n",
    "AVISO_minEP_ell = {'Gulf': 300,\n",
    "              'Kuroshio': 360,\n",
    "              'BrazilACC': 320,\n",
    "              'Agulhas': 340,\n",
    "              'ACC': 320,\n",
    "              'SouthernOcean': 300,\n",
    "              'Global': 260}"
   ]
  },
  {
   "cell_type": "code",
   "execution_count": 2,
   "metadata": {},
   "outputs": [],
   "source": [
    "QS_EP_file = '/scratch/srai6/CESM_HighRes/fromNCCS/QuikSCAT/averagedDataWithSTDin_mWatts_regions.nc'\n",
    "QS_EP_ds = Dataset(QS_EP_file)\n",
    "EP = np.array(QS_EP_ds.variables['EddyPowerPerArea']) * readUAREA\n",
    "\n",
    "POP_EP_file = '/scratch/srai6/CESM_HighRes/fromNCCS/POP/geosWeeklyAvgOutput/averagedData.nc'\n",
    "POP_EP_ds = Dataset(POP_EP_file)\n",
    "EP_POP = np.array(POP_EP_ds.variables['EddyPowerPerArea']) * readUAREA_pop * 1e-3 #(PPA from CGS to SI area is already in SI)"
   ]
  },
  {
   "cell_type": "code",
   "execution_count": 5,
   "metadata": {},
   "outputs": [],
   "source": [
    "EP = np.concatenate((np.zeros((1,720, 1440), dtype=float), EP),axis=0)\n",
    "EP_POP = np.concatenate((np.zeros((1,2400, 3600), dtype=float), EP_POP),axis=0)"
   ]
  },
  {
   "cell_type": "code",
   "execution_count": 6,
   "metadata": {},
   "outputs": [],
   "source": [
    "lenScaleList = np.arange(100, 1100, 100)\n",
    "lenScaleList2 = np.array(\n",
    "    [0, 50, 60, 80, 120, 140, 160, 180, 220, 240, 260, 280, 320, 340, 360])\n",
    "lenScaleList = np.concatenate((lenScaleList, lenScaleList2), axis=0)\n",
    "lenScaleList = np.sort(lenScaleList)\n",
    "lenScaleList = np.array(lenScaleList, dtype=float)\n",
    "#lenScaleList = np.sort(lenScaleList)\n",
    "lenScaleList2 = np.roll(lenScaleList,-1)\n",
    "\n",
    "nFilter = len(lenScaleList)\n",
    "\n",
    "dell = lenScaleList2 - lenScaleList\n",
    "\n",
    "midEll = (lenScaleList2 + lenScaleList)/2.0\n",
    "#midEll = lenScaleList #(lenScaleList2 + lenScaleList)/2.0\n",
    "\n",
    "#print(midEll)\n",
    "\n",
    "dell = dell[0:nFilter-1] * 1e3\n",
    "midEll = midEll[0:nFilter-1] * 1e3\n",
    "\n",
    "y = np.zeros((nMasks, nFilter-1), dtype=float)\n",
    "dE = np.zeros((nMasks, nFilter-1), dtype=float)\n",
    "\n",
    "gU2 = np.zeros((nFilter,), dtype=float)\n",
    "gU2_pop = np.zeros((nFilter,), dtype=float)"
   ]
  },
  {
   "cell_type": "code",
   "execution_count": 7,
   "metadata": {},
   "outputs": [],
   "source": [
    "def plotKE_Spectrum(maskName):\n",
    "    U2 = np.copy(MeanKE)\n",
    "    UAREA2 = np.copy(readUAREA)\n",
    "    maskArr = np.array(maskDs.variables[maskName])\n",
    "    mask = maskArr < 1\n",
    "    maskEq = abs(ULAT) < 15.0\n",
    "    mask = mask + maskEq\n",
    "    UAREA = np.ma.array(UAREA2, mask=mask, fill_value=0.0).filled()\n",
    "    maskedEP = np.sum(EP * (~mask), axis = (1,2))\n",
    "\n",
    "\n",
    "    U2_pop = np.copy(MeanKE_pop)\n",
    "    UAREA2_pop = np.copy(readUAREA_pop)\n",
    "    maskArr_pop = np.array(maskDs2.variables[maskName])\n",
    "    mask_pop = maskArr_pop < 1\n",
    "    maskEq_pop = abs(ULAT_pop) < 15.0\n",
    "    mask_pop = mask_pop + maskEq_pop\n",
    "    UAREA_pop = np.ma.array(UAREA2_pop, mask=mask_pop, fill_value=0.0).filled()\n",
    "    maskedEP_pop = np.sum(EP_POP * (~mask_pop), axis = (1,2))\n",
    "\n",
    "    for i in range(nFilter):\n",
    "        U_2 = np.ma.array(U2[i, :, :], mask=mask, fill_value=0.0).filled()\n",
    "\n",
    "        gU2[i] = np.sum(U_2 * UAREA[:, :]) / (np.sum(UAREA[:, :]))\n",
    "\n",
    "        U_2_pop = np.ma.array(U2_pop[i, :, :], mask=mask_pop, fill_value=0.0).filled()\n",
    "\n",
    "        gU2_pop[i] = np.sum(U_2_pop * UAREA_pop[:, :]) / (np.sum(UAREA_pop[:, :]))\n",
    "\n",
    "    dE_thisMask = np.roll(gU2, -1) - gU2\n",
    "    l2dE_thisMask = dE_thisMask[0:nFilter-1] * midEll**2\n",
    "\n",
    "    dE_thisMask_pop = np.roll(gU2_pop, -1) - gU2_pop\n",
    "    l2dE_thisMask_pop = dE_thisMask_pop[0:nFilter-1] * midEll**2\n",
    "\n",
    "\n",
    "    y= -l2dE_thisMask/dell\n",
    "\n",
    "    y_pop= -l2dE_thisMask_pop/dell\n",
    "\n",
    "    k = 1.0/(midEll/1000.0) #lenScaleList[0:nFilter-1]\n",
    "    #print('midEll', midEll)\n",
    "    #print('k', k)\n",
    "\n",
    "    \n",
    "    #avIndx = np.where(lenScaleList == AVISO_minEP_ell[maskName])[0][0]\n",
    "    avIndx = np.argmin(maskedEP)\n",
    "    if maskName == 'Global':\n",
    "        avIndx = np.where(lenScaleList == AVISO_minEP_ell[maskName])[0][0]\n",
    "    U_0 = gU2[0]\n",
    "    U_1 = gU2[avIndx]\n",
    "    avFrac = (U_0 - U_1)/U_0\n",
    "    \n",
    "    #popIndx = np.where(lenScaleList == POP_minEP_ell[maskName])[0][0]\n",
    "    popIndx = np.argmin(maskedEP_pop)\n",
    "    if maskName == 'Global':\n",
    "        popIndx = np.where(lenScaleList == POP_minEP_ell[maskName])[0][0]\n",
    "    U_0_pop = gU2_pop[0]\n",
    "    U_1_pop = gU2_pop[popIndx]\n",
    "    popFrac = (U_0_pop - U_1_pop)/U_0_pop\n",
    "    \n",
    "    fig, ax = plt.subplots(constrained_layout=True)\n",
    "    ax.set_rasterization_zorder(0)\n",
    "    \n",
    "    #k_av = 1.0/AVISO_minEP_ell[maskName]\n",
    "    k_av = 1.0/lenScaleList[avIndx]\n",
    "    dta_av = np.stack((k,y), axis = 0)\n",
    "    dta_av = dta_av[:,dta_av[0,:].argsort()]\n",
    "    add_av = np.array([[k_av],\n",
    "                       [np.interp(k_av, dta_av[0], dta_av[1])]])\n",
    "    dta_av = np.concatenate((dta_av,add_av), axis = 1)\n",
    "    dta_av = dta_av[:,dta_av[0,:].argsort()]\n",
    "    avIndx = np.where(dta_av[0,:] == k_av)[0][0]\n",
    "    \n",
    "    #k_pop = 1.0/POP_minEP_ell[maskName]\n",
    "    k_pop = 1.0/lenScaleList[popIndx]\n",
    "    dta_pop = np.stack((k,y_pop), axis = 0)\n",
    "    dta_pop = dta_pop[:,dta_pop[0,:].argsort()]\n",
    "    add_pop = np.array([[k_pop],\n",
    "                        [np.interp(k_pop, dta_pop[0], dta_pop[1])]])\n",
    "    dta_pop = np.concatenate((dta_pop,add_pop), axis = 1)\n",
    "    dta_pop = dta_pop[:,dta_pop[0,:].argsort()]\n",
    "    popIndx = np.where(dta_pop[0,:] == k_pop)[0][0]\n",
    "    \n",
    "    \n",
    "    \n",
    "    ax.plot(dta_av[0,:], dta_av[1,:], rasterized=True)#k, y)#, rasterized=True)\n",
    "    \n",
    "    ax.fill_between(dta_av[0, avIndx:len(dta_av[0])],dta_av[1, avIndx:len(dta_av[0])], alpha = 0.2, rasterized=True)\n",
    "    #print('AV', 1/k[avIndx])\n",
    "    ax.plot(k, y_pop, rasterized=True)\n",
    "    ax.fill_between(dta_pop[0, popIndx:len(dta_pop[0])],dta_pop[1, popIndx:len(dta_pop[0])], alpha = 0.2, rasterized=True)\n",
    "    \n",
    "    ax.axvline(k_av, alpha = 0.4, c='steelblue', rasterized=True)\n",
    "    ax.text(k_av, 0.75 * np.max(y),\n",
    "            '{0:2.0f}%'.format(avFrac * 100), ha ='left',\n",
    "            c='navy',fontsize = 12)\n",
    "    \n",
    "    \n",
    "    ax.axvline(k_pop, alpha = 0.4, c='darkorange', rasterized=True)\n",
    "    ax.text(k_pop, 0.2 * np.max(y_pop),\n",
    "            '{0:2.0f}%'.format(popFrac * 100), ha ='left',\n",
    "            c='maroon',fontsize = 12)\n",
    "    \n",
    "    \n",
    "    \n",
    "    print(RegionName[maskName], 'POP :{0:6.3f} ell:{1:4.0f}, AVISO :{2:6.3f} ell:{3:4.0f}'.format(popFrac,lenScaleList[popIndx], avFrac,lenScaleList[avIndx]))\n",
    "    \n",
    "    ax.yaxis.set_major_formatter(FormatStrFormatter(\"%3.1e\")) #4.2f\"))\n",
    "    ax.set_xscale('log')\n",
    "    #ax.scatter(k,y)\n",
    "    #ax.set_xlim(0.0008,0.02)\n",
    "    ax.legend(['AVISO','CESM'])\n",
    "    ax.set_xlabel(r'wavenumber(k)[$km^{-1}$]', fontsize = 12)\n",
    "    ax.set_ylabel(r'Energy Density [$m^3/sec^2$]', fontsize =12)\n",
    "    ax.set_title('Energy spectrum for '+ RegionName[maskName], fontsize =14)\n",
    "\n",
    "    ax.xaxis.set_major_formatter(FormatStrFormatter(\"%6.4f\"))\n",
    "    ax.tick_params(axis = 'both', which='major', width=1.5, length=5, labelsize=10)\n",
    "    ax.tick_params(axis = 'both', which='minor', width=1.5, length=3, labelsize=10)\n",
    "    #ax.xaxis.set_minor_formatter(FormatStrFormatter(\"%d\"))\n",
    "\n",
    "\n",
    "    def forward(x):\n",
    "        #print('forward', x)\n",
    "        return 1.0 / x\n",
    "\n",
    "\n",
    "    def inverse(x):\n",
    "        #print('reverse', x)\n",
    "        return 1.0 / x\n",
    "\n",
    "    secax = ax.secondary_xaxis('top', functions=(forward, inverse))\n",
    "    #secax.set_xticks([50, 60, 75, 100, 180, 1000])\n",
    "    secax.tick_params(which='major', width=1.5, length=5, labelsize=10)\n",
    "    secax.tick_params(which='minor', width=1.5, length=3, labelsize=10)\n",
    "    #secax.xaxis.set_minor_locator(AutoMinorLocator())\n",
    "    secax.xaxis.set_major_formatter(FormatStrFormatter(\"%d\")) #4.2f\"))\n",
    "    #secax.xaxis.set_minor_formatter(FormatStrFormatter(\"%d\"))\n",
    "\n",
    "    # positions = [300.0, 600.0]\n",
    "    # labels = str(positions)\n",
    "    # secax.set_major_locator(ticker.FixedLocator(positions))\n",
    "    # secax.set_major_formatter(ticker.FixedFormatter(labels))\n",
    "\n",
    "\n",
    "    secax.set_xlabel(r'filterLength($\\ell$) [km]', fontsize = 12)\n",
    "\n",
    "    #ax.set_rasterized(rasterized=True)\n",
    "    plt.tight_layout()\n",
    "    plt.savefig(maskName +'_overlay.svg', dpi = 150, format='svg')"
   ]
  },
  {
   "cell_type": "code",
   "execution_count": 8,
   "metadata": {},
   "outputs": [],
   "source": [
    "%matplotlib inline\n",
    "def plotKE_SpectrumLogLog(maskName):\n",
    "    U2 = np.copy(MeanKE)\n",
    "    UAREA2 = np.copy(readUAREA)\n",
    "    maskArr = np.array(maskDs.variables[maskName])\n",
    "    mask = maskArr < 1\n",
    "    maskEq = abs(ULAT) < 15.0\n",
    "    mask = mask + maskEq\n",
    "    UAREA = np.ma.array(UAREA2, mask=mask, fill_value=0.0).filled()\n",
    "\n",
    "\n",
    "    U2_pop = np.copy(MeanKE_pop)\n",
    "    UAREA2_pop = np.copy(readUAREA_pop)\n",
    "    maskArr_pop = np.array(maskDs2.variables[maskName])\n",
    "    mask_pop = maskArr_pop < 1\n",
    "    maskEq_pop = abs(ULAT_pop) < 15.0\n",
    "    mask_pop = mask_pop + maskEq_pop\n",
    "    UAREA_pop = np.ma.array(UAREA2_pop, mask=mask_pop, fill_value=0.0).filled()\n",
    "\n",
    "\n",
    "    for i in range(nFilter):\n",
    "        U_2 = np.ma.array(U2[i, :, :], mask=mask, fill_value=0.0).filled()\n",
    "\n",
    "        gU2[i] = np.sum(U_2 * UAREA[:, :]) / (np.sum(UAREA[:, :]))\n",
    "\n",
    "        U_2_pop = np.ma.array(U2_pop[i, :, :], mask=mask_pop, fill_value=0.0).filled()\n",
    "\n",
    "        gU2_pop[i] = np.sum(U_2_pop * UAREA_pop[:, :]) / (np.sum(UAREA_pop[:, :]))\n",
    "\n",
    "    dE_thisMask = np.roll(gU2, -1) - gU2\n",
    "    l2dE_thisMask = dE_thisMask[0:nFilter-1] * midEll**2\n",
    "\n",
    "    dE_thisMask_pop = np.roll(gU2_pop, -1) - gU2_pop\n",
    "    l2dE_thisMask_pop = dE_thisMask_pop[0:nFilter-1] * midEll**2\n",
    "\n",
    "\n",
    "    y= -l2dE_thisMask/dell\n",
    "\n",
    "    y_pop= -l2dE_thisMask_pop/dell\n",
    "\n",
    "    k = 1.0/(midEll/1000.0) #lenScaleList[0:nFilter-1]\n",
    "    \n",
    "    if maskName == 'Global':\n",
    "        print('y', y)\n",
    "        print('k', k)\n",
    "        print('ell', midEll/1000.0)\n",
    "    \n",
    "    #print('midEll', midEll)\n",
    "    #print('k', k)\n",
    "\n",
    "\n",
    "    fig, ax = plt.subplots(constrained_layout=True)\n",
    "    ax.set_rasterization_zorder(0)\n",
    "    \n",
    "    ax.loglog(k, y)#, rasterized=True)\n",
    "    ax.loglog(k, y_pop)\n",
    "    \n",
    "    ax.axvline(1.0/AVISO_minEP_ell[maskName], alpha = 0.4, c='steelblue')\n",
    "    ax.axvline(1.0/POP_minEP_ell[maskName], alpha = 0.4, c='darkorange')\n",
    "    \n",
    "    #ax.scatter(k,y)\n",
    "    #ax.set_xlim(0.0008,0.02)\n",
    "    ax.legend(['AVISO','POP'])\n",
    "    ax.set_xlabel(r'wavenumber(k)[$km^{-1}$]', fontsize = 12)\n",
    "    ax.set_ylabel(r'Energy Density [$m^3/sec^2$]', fontsize =12)\n",
    "    ax.set_title('Energy spectrum for '+ RegionName[maskName], fontsize =14)\n",
    "\n",
    "    ax.xaxis.set_major_formatter(FormatStrFormatter(\"%6.4f\"))\n",
    "    ax.tick_params(axis = 'both', which='major', width=1.5, length=5, labelsize=10)\n",
    "    ax.tick_params(axis = 'both', which='minor', width=1.5, length=3, labelsize=10)\n",
    "    #ax.xaxis.set_minor_formatter(FormatStrFormatter(\"%d\"))\n",
    "\n",
    "\n",
    "    def forward(x):\n",
    "        #print('forward', x)\n",
    "        return 1.0 / x\n",
    "\n",
    "\n",
    "    def inverse(x):\n",
    "        #print('reverse', x)\n",
    "        return 1.0 / x\n",
    "\n",
    "    secax = ax.secondary_xaxis('top', functions=(forward, inverse))\n",
    "    #secax.set_xticks([50, 60, 75, 100, 180, 1000])\n",
    "    secax.tick_params(which='major', width=1.5, length=5, labelsize=10)\n",
    "    secax.tick_params(which='minor', width=1.5, length=3, labelsize=10)\n",
    "    #secax.xaxis.set_minor_locator(AutoMinorLocator())\n",
    "    secax.xaxis.set_major_formatter(FormatStrFormatter(\"%d\")) #4.2f\"))\n",
    "    #secax.xaxis.set_minor_formatter(FormatStrFormatter(\"%d\"))\n",
    "\n",
    "    # positions = [300.0, 600.0]\n",
    "    # labels = str(positions)\n",
    "    # secax.set_major_locator(ticker.FixedLocator(positions))\n",
    "    # secax.set_major_formatter(ticker.FixedFormatter(labels))\n",
    "\n",
    "\n",
    "    secax.set_xlabel(r'filterLength($\\ell$) [km]', fontsize = 12)\n",
    "\n",
    "    #ax.set_rasterized(rasterized=True)\n",
    "    plt.tight_layout()\n",
    "    #plt.savefig(maskName +'_overlay.jpg', dpi = 150, format='jpg')"
   ]
  },
  {
   "cell_type": "code",
   "execution_count": 9,
   "metadata": {},
   "outputs": [
    {
     "name": "stdout",
     "output_type": "stream",
     "text": [
      "Gulf Stream POP : 0.899 ell: 280, AVISO : 0.884 ell: 200\n"
     ]
    },
    {
     "name": "stderr",
     "output_type": "stream",
     "text": [
      "<ipython-input-7-46cc71a0828d>:131: RuntimeWarning: divide by zero encountered in true_divide\n",
      "  return 1.0 / x\n",
      "<ipython-input-7-46cc71a0828d>:150: UserWarning: This figure was using constrained_layout, but that is incompatible with subplots_adjust and/or tight_layout; disabling constrained_layout.\n",
      "  plt.tight_layout()\n"
     ]
    },
    {
     "data": {
      "image/png": "[encoded data removed]",
      "text/plain": [
       "<Figure size 432x288 with 1 Axes>"
      ]
     },
     "metadata": {
      "needs_background": "light"
     },
     "output_type": "display_data"
    }
   ],
   "source": [
    "plotKE_Spectrum(\"Gulf\")"
   ]
  },
  {
   "cell_type": "code",
   "execution_count": 11,
   "metadata": {},
   "outputs": [
    {
     "name": "stderr",
     "output_type": "stream",
     "text": [
      "<ipython-input-8-4f55fc102e5d>:81: RuntimeWarning: divide by zero encountered in true_divide\n",
      "  return 1.0 / x\n",
      "<ipython-input-8-4f55fc102e5d>:100: UserWarning: This figure was using constrained_layout, but that is incompatible with subplots_adjust and/or tight_layout; disabling constrained_layout.\n",
      "  plt.tight_layout()\n"
     ]
    },
    {
     "data": {
      "image/png": "[encoded data removed]",
      "text/plain": [
       "<Figure size 432x288 with 1 Axes>"
      ]
     },
     "metadata": {
      "needs_background": "light"
     },
     "output_type": "display_data"
    }
   ],
   "source": [
    "plotKE_SpectrumLogLog(\"Gulf\")"
   ]
  },
  {
   "cell_type": "code",
   "execution_count": 9,
   "metadata": {},
   "outputs": [
    {
     "name": "stdout",
     "output_type": "stream",
     "text": [
      "ACC POP : 0.847 ell: 280, AVISO : 0.836 ell: 200\n"
     ]
    },
    {
     "name": "stderr",
     "output_type": "stream",
     "text": [
      "<ipython-input-5-46cc71a0828d>:131: RuntimeWarning: divide by zero encountered in true_divide\n",
      "  return 1.0 / x\n",
      "<ipython-input-5-46cc71a0828d>:150: UserWarning: This figure was using constrained_layout, but that is incompatible with subplots_adjust and/or tight_layout; disabling constrained_layout.\n",
      "  plt.tight_layout()\n"
     ]
    },
    {
     "name": "stdout",
     "output_type": "stream",
     "text": [
      "Southern Ocean POP : 0.836 ell: 280, AVISO : 0.812 ell: 220\n"
     ]
    },
    {
     "name": "stderr",
     "output_type": "stream",
     "text": [
      "<ipython-input-5-46cc71a0828d>:131: RuntimeWarning: divide by zero encountered in true_divide\n",
      "  return 1.0 / x\n",
      "<ipython-input-5-46cc71a0828d>:150: UserWarning: This figure was using constrained_layout, but that is incompatible with subplots_adjust and/or tight_layout; disabling constrained_layout.\n",
      "  plt.tight_layout()\n"
     ]
    },
    {
     "name": "stdout",
     "output_type": "stream",
     "text": [
      "Global POP : 0.775 ell: 340, AVISO : 0.784 ell: 260\n"
     ]
    },
    {
     "name": "stderr",
     "output_type": "stream",
     "text": [
      "<ipython-input-5-46cc71a0828d>:131: RuntimeWarning: divide by zero encountered in true_divide\n",
      "  return 1.0 / x\n",
      "<ipython-input-5-46cc71a0828d>:150: UserWarning: This figure was using constrained_layout, but that is incompatible with subplots_adjust and/or tight_layout; disabling constrained_layout.\n",
      "  plt.tight_layout()\n"
     ]
    },
    {
     "name": "stdout",
     "output_type": "stream",
     "text": [
      "Gulf Stream POP : 0.881 ell: 300, AVISO : 0.871 ell: 220\n"
     ]
    },
    {
     "name": "stderr",
     "output_type": "stream",
     "text": [
      "<ipython-input-5-46cc71a0828d>:131: RuntimeWarning: divide by zero encountered in true_divide\n",
      "  return 1.0 / x\n",
      "<ipython-input-5-46cc71a0828d>:150: UserWarning: This figure was using constrained_layout, but that is incompatible with subplots_adjust and/or tight_layout; disabling constrained_layout.\n",
      "  plt.tight_layout()\n"
     ]
    },
    {
     "name": "stdout",
     "output_type": "stream",
     "text": [
      "Kuroshio POP : 0.866 ell: 200, AVISO : 0.856 ell: 160\n"
     ]
    },
    {
     "name": "stderr",
     "output_type": "stream",
     "text": [
      "<ipython-input-5-46cc71a0828d>:131: RuntimeWarning: divide by zero encountered in true_divide\n",
      "  return 1.0 / x\n",
      "<ipython-input-5-46cc71a0828d>:150: UserWarning: This figure was using constrained_layout, but that is incompatible with subplots_adjust and/or tight_layout; disabling constrained_layout.\n",
      "  plt.tight_layout()\n"
     ]
    },
    {
     "name": "stdout",
     "output_type": "stream",
     "text": [
      "Brazil Malvinas POP : 0.849 ell: 280, AVISO : 0.867 ell: 200\n"
     ]
    },
    {
     "name": "stderr",
     "output_type": "stream",
     "text": [
      "<ipython-input-5-46cc71a0828d>:131: RuntimeWarning: divide by zero encountered in true_divide\n",
      "  return 1.0 / x\n",
      "<ipython-input-5-46cc71a0828d>:150: UserWarning: This figure was using constrained_layout, but that is incompatible with subplots_adjust and/or tight_layout; disabling constrained_layout.\n",
      "  plt.tight_layout()\n"
     ]
    },
    {
     "name": "stdout",
     "output_type": "stream",
     "text": [
      "Agulhas POP : 0.877 ell: 240, AVISO : 0.884 ell: 180\n"
     ]
    },
    {
     "name": "stderr",
     "output_type": "stream",
     "text": [
      "<ipython-input-5-46cc71a0828d>:131: RuntimeWarning: divide by zero encountered in true_divide\n",
      "  return 1.0 / x\n",
      "<ipython-input-5-46cc71a0828d>:150: UserWarning: This figure was using constrained_layout, but that is incompatible with subplots_adjust and/or tight_layout; disabling constrained_layout.\n",
      "  plt.tight_layout()\n"
     ]
    }
   ],
   "source": [
    "for maskName in maskList:\n",
    "    plotKE_Spectrum(maskName)"
   ]
  },
  {
   "cell_type": "code",
   "execution_count": 10,
   "metadata": {},
   "outputs": [
    {
     "name": "stdout",
     "output_type": "stream",
     "text": [
      "3.5.1\n"
     ]
    }
   ],
   "source": [
    "print(matplotlib.__version__)"
   ]
  },
  {
   "cell_type": "code",
   "execution_count": 11,
   "metadata": {},
   "outputs": [],
   "source": [
    "def get_bandIntegral(maskName, lower, upper):\n",
    "    U2 = np.copy(MeanKE)\n",
    "    UAREA2 = np.copy(readUAREA)\n",
    "    maskArr = np.array(maskDs.variables[maskName])\n",
    "    mask = maskArr < 1\n",
    "    #mask = mask + np.array(maskDs.variables['Equator'])\n",
    "    \n",
    "    maskEq = abs(ULAT) < 15.0\n",
    "    mask = mask + maskEq\n",
    "    \n",
    "    UAREA = np.ma.array(UAREA2, mask=mask, fill_value=0.0).filled()\n",
    "\n",
    "\n",
    "    U2_pop = np.copy(MeanKE_pop)\n",
    "    UAREA2_pop = np.copy(readUAREA_pop)\n",
    "    maskArr_pop = np.array(maskDs2.variables[maskName])\n",
    "    \n",
    "    mask_pop = maskArr_pop < 1\n",
    "    \n",
    "    maskEq_pop = abs(ULAT_pop) < 15.0\n",
    "    mask_pop = mask_pop + maskEq_pop\n",
    "    \n",
    "    UAREA_pop = np.ma.array(UAREA2_pop, mask=mask_pop, fill_value=0.0).filled()\n",
    "    \n",
    "    gU2 = np.zeros((nFilter,), dtype=float)\n",
    "    gU2_pop = np.zeros((nFilter,), dtype=float)\n",
    "\n",
    "\n",
    "    for i in range(nFilter):\n",
    "        U_2 = np.ma.array(U2[i, :, :], mask=mask, fill_value=0.0).filled()\n",
    "        gU2[i] = np.sum(U_2 * UAREA[:, :]) / (np.sum(UAREA[:, :]))\n",
    "\n",
    "        U_2_pop = np.ma.array(U2_pop[i, :, :], mask=mask_pop, fill_value=0.0).filled()\n",
    "        gU2_pop[i] = np.sum(U_2_pop * UAREA_pop[:, :]) / (np.sum(UAREA_pop[:, :]))\n",
    "    \n",
    "    \n",
    "    dE_thisMask = np.roll(gU2, -1) - gU2\n",
    "    l2dE_thisMask = dE_thisMask[0:nFilter-1] * midEll**2\n",
    "\n",
    "    dE_thisMask_pop = np.roll(gU2_pop, -1) - gU2_pop\n",
    "    l2dE_thisMask_pop = dE_thisMask_pop[0:nFilter-1] * midEll**2\n",
    "    \n",
    "    y= -dE_thisMask #-l2dE_thisMask/dell\n",
    "    y_pop= -dE_thisMask_pop #-l2dE_thisMask_pop/dell\n",
    "    \n",
    "    lindex = list(lenScaleList).index(lower)\n",
    "    uindex = list(lenScaleList).index(upper)\n",
    "    \n",
    "    Aviso_val = gU2[lindex] - gU2[uindex] #0.0\n",
    "    POP_val = gU2_pop[lindex] - gU2_pop[uindex] #0.0\n",
    "#     for d in range(lindex, uindex):\n",
    "#         Aviso_val += y[d] #* dell[d]\n",
    "#         POP_val += y_pop[d] #* dell[d]\n",
    "    \n",
    "    return list([Aviso_val, POP_val])\n",
    "        \n",
    "        \n",
    "\n",
    "    "
   ]
  },
  {
   "cell_type": "code",
   "execution_count": 12,
   "metadata": {},
   "outputs": [],
   "source": [
    "av_pop = list([get_bandIntegral('Global', 0, 50),\n",
    "               get_bandIntegral('Global', 50, 60),\n",
    "               get_bandIntegral('Global', 60, 80),\n",
    "               get_bandIntegral('Global', 80, 100),\n",
    "               \n",
    "               get_bandIntegral('Global', 100, 120),\n",
    "               get_bandIntegral('Global', 120, 140),\n",
    "               get_bandIntegral('Global', 140, 160),\n",
    "               get_bandIntegral('Global', 160, 180),\n",
    "               get_bandIntegral('Global', 180, 200),\n",
    "               \n",
    "               get_bandIntegral('Global', 200, 220),\n",
    "               get_bandIntegral('Global', 220, 240),\n",
    "               get_bandIntegral('Global', 240, 260),\n",
    "               get_bandIntegral('Global', 260, 280),\n",
    "               get_bandIntegral('Global', 280, 300),\n",
    "               \n",
    "               get_bandIntegral('Global', 300, 320),\n",
    "               get_bandIntegral('Global', 320, 340),\n",
    "               get_bandIntegral('Global', 340, 360),\n",
    "               get_bandIntegral('Global', 360, 400),\n",
    "               get_bandIntegral('Global', 400, 500),\n",
    "               get_bandIntegral('Global', 500, 600),\n",
    "               \n",
    "              ])\n",
    "\n"
   ]
  },
  {
   "cell_type": "code",
   "execution_count": 13,
   "metadata": {},
   "outputs": [],
   "source": [
    "def findBandsRegion(region):\n",
    "    av_pop = list([get_bandIntegral(region, 0, 50),\n",
    "                   get_bandIntegral(region, 50, 60),\n",
    "                   get_bandIntegral(region, 60, 80),\n",
    "                   get_bandIntegral(region, 80, 100),\n",
    "\n",
    "                   get_bandIntegral(region, 100, 120),\n",
    "                   get_bandIntegral(region, 120, 140),\n",
    "                   get_bandIntegral(region, 140, 160),\n",
    "                   get_bandIntegral(region, 160, 180),\n",
    "                   get_bandIntegral(region, 180, 200),\n",
    "\n",
    "                   get_bandIntegral(region, 200, 220),\n",
    "                   get_bandIntegral(region, 220, 240),\n",
    "                   get_bandIntegral(region, 240, 260),\n",
    "                   get_bandIntegral(region, 260, 280),\n",
    "                   get_bandIntegral(region, 280, 300),\n",
    "\n",
    "                   get_bandIntegral(region, 300, 320),\n",
    "                   get_bandIntegral(region, 320, 340),\n",
    "                   get_bandIntegral(region, 340, 360),\n",
    "                   get_bandIntegral(region, 360, 400),\n",
    "                   get_bandIntegral(region, 400, 500),\n",
    "                   get_bandIntegral(region, 500, 600),\n",
    "\n",
    "                  ])\n",
    "\n",
    "    x = np.arange(60,370,20)\n",
    "    x2 = np.array([50,400,500,600])\n",
    "    x = np.concatenate((x,x2))\n",
    "    x = np.sort(x)\n",
    "    plt.figure(figsize = (15,7))\n",
    "    plt.plot(x,np.log(np.array(av_pop)))\n",
    "    plt.title(region)\n",
    "    plt.xticks(x)\n"
   ]
  },
  {
   "cell_type": "code",
   "execution_count": 14,
   "metadata": {},
   "outputs": [],
   "source": [
    "regionBar = 'SouthernOcean'\n",
    "findBandsRegion(regionBar)"
   ]
  },
  {
   "cell_type": "code",
   "execution_count": 15,
   "metadata": {},
   "outputs": [
    {
     "name": "stdout",
     "output_type": "stream",
     "text": [
      "ymax 0.006800518311984131\n"
     ]
    }
   ],
   "source": [
    "regionBar = 'Global'\n",
    "def autolabel(ax, rects, fracts):\n",
    "    \"\"\"\n",
    "    Attach a text label above each bar displaying its height\n",
    "    \"\"\"\n",
    "    for i in range(len(rects)):\n",
    "        rect = rects[i]\n",
    "        fract = fracts[i]\n",
    "        height = rect.get_height()\n",
    "        ax.text(rect.get_x() + rect.get_width()/2., 1.005*height,\n",
    "                '%.2f' % fract,\n",
    "                ha='center', va='bottom')\n",
    "                       \n",
    "def getBarPlot(region):\n",
    "    av_pop = list([get_bandIntegral(region, 0, 50),\n",
    "                   get_bandIntegral(region, 50, 100),\n",
    "                   get_bandIntegral(region, 100, 200),\n",
    "                   get_bandIntegral(region, 200, 400),               \n",
    "                  ])\n",
    "    labels = [\"(0, 50)\",\n",
    "             \"(50, 100)\",\n",
    "             \"(100, 200)\",\n",
    "             \"(200, 400)\"]\n",
    "    total = get_bandIntegral(region, 0, 400)\n",
    "    total = list([total, total, total, total])\n",
    "                   \n",
    "    fracts = np.array(av_pop)/np.array(total)               \n",
    "                   \n",
    "    \n",
    "    \n",
    "    x = np.arange(len(labels))  # the label locations\n",
    "    width = 0.4\n",
    "    fig, ax = plt.subplots(figsize=(5,3))\n",
    "    ax.set_rasterization_zorder(0)\n",
    "\n",
    "\n",
    "    rects1 = ax.bar(x - width/2, np.array(av_pop)[:,0], width, label='AVISO')\n",
    "    rects2 = ax.bar(x + width/2, np.array(av_pop)[:,1], width, label='POP')\n",
    "    \n",
    "    ymax = np.max(np.array(av_pop))\n",
    "    print('ymax',ymax)\n",
    "    \n",
    "    ax.set_ylim(0,1.10*ymax)\n",
    "    autolabel(ax, rects1, fracts[:,0])\n",
    "    autolabel(ax, rects2, fracts[:,1]) \n",
    "    \n",
    "    \n",
    "    plt.xlabel(r'Length-scale$(\\ell)~[km]$', fontsize = 12)\n",
    "    plt.ylabel(r'Energy [$m^2/sec^2$]', fontsize =12)\n",
    "\n",
    "    ax.set_xticks(x)\n",
    "    ax.set_xticklabels(labels)\n",
    "    ax.set_title(RegionName[region])\n",
    "    #ax.invert_yaxis()\n",
    "    plt.legend()\n",
    "    plt.tight_layout()\n",
    "    plt.savefig(region + '_EnergyBand_barPlot.pdf', dpi = 150, format='pdf')\n",
    "\n",
    "getBarPlot(regionBar)"
   ]
  },
  {
   "cell_type": "code",
   "execution_count": 16,
   "metadata": {},
   "outputs": [],
   "source": [
    "labels = [\"(0, 50)\",\n",
    "         \"(50, 60)\",\n",
    "         \"(60, 80)\",\n",
    "         \"(80, 100)\" ,              \n",
    "         \"(100, 120)\",\n",
    "         \"(120, 140)\",\n",
    "         \"(140, 160)\",\n",
    "         \"(160, 180)\",\n",
    "         \"(180, 200)\",      \n",
    "         \"(200, 220)\",\n",
    "         \"(220, 240)\",\n",
    "         \"(240, 260)\",\n",
    "         \"(260, 280)\",\n",
    "         \"(280, 300)\",       \n",
    "         \"(300, 320)\",\n",
    "         \"(320, 340)\",\n",
    "         \"(340, 360)\",\n",
    "         \"(360, 400)\",\n",
    "         \"(400, 500)\",\n",
    "         \"(500, 600)\"]"
   ]
  },
  {
   "cell_type": "code",
   "execution_count": 17,
   "metadata": {},
   "outputs": [
    {
     "data": {
      "text/plain": [
       "Text(37.89999999999999, 0.5, 'Energy Density [$m^4/sec^2$]')"
      ]
     },
     "execution_count": 17,
     "metadata": {},
     "output_type": "execute_result"
    }
   ],
   "source": [
    "plt.plot(labels,av_pop)\n",
    "plt.legend(['AVISO', 'POP'])\n",
    "plt.xlabel(r'$Filterlength~(\\ell)~[km]$', fontsize = 12)\n",
    "plt.ylabel(r'Energy Density [$m^4/sec^2$]', fontsize =12)\n",
    "    "
   ]
  },
  {
   "cell_type": "code",
   "execution_count": 18,
   "metadata": {
    "scrolled": true
   },
   "outputs": [
    {
     "data": {
      "text/plain": [
       "<matplotlib.legend.Legend at 0x2b9dbf1bae20>"
      ]
     },
     "execution_count": 18,
     "metadata": {},
     "output_type": "execute_result"
    }
   ],
   "source": [
    "x = np.arange(len(labels))  # the label locations\n",
    "width = 0.2\n",
    "fig, ax = plt.subplots(figsize=(12,12))\n",
    "\n",
    "rects1 = ax.barh(x - width/2, np.array(av_pop)[:,0], width, label='AVISO')\n",
    "rects2 = ax.barh(x + width/2, np.array(av_pop)[:,1], width, label='POP')\n",
    "plt.ylabel(r'$Filterlength~(\\ell)~[km]$', fontsize = 12)\n",
    "plt.xlabel(r'Energy Density [$m^2/sec^2$]', fontsize =12)\n",
    "\n",
    "ax.set_yticks(x)\n",
    "ax.set_yticklabels(labels)\n",
    "ax.invert_yaxis()\n",
    "plt.legend()"
   ]
  },
  {
   "cell_type": "code",
   "execution_count": null,
   "metadata": {},
   "outputs": [],
   "source": [
    " "
   ]
  },
  {
   "cell_type": "code",
   "execution_count": 19,
   "metadata": {},
   "outputs": [],
   "source": [
    "av_pop = list([get_bandIntegral('Global', 0, 50),\n",
    "               get_bandIntegral('Global', 50, 100),\n",
    "               get_bandIntegral('Global', 100,200),\n",
    "               get_bandIntegral('Global', 200,400),               \n",
    "              ])\n"
   ]
  },
  {
   "cell_type": "code",
   "execution_count": 20,
   "metadata": {},
   "outputs": [],
   "source": [
    "labels = [\"(0, 50)\",\n",
    "         \"(50, 100)\",\n",
    "         \"(100,200)\",\n",
    "         \"(200, 400)\"]"
   ]
  },
  {
   "cell_type": "code",
   "execution_count": 21,
   "metadata": {},
   "outputs": [
    {
     "data": {
      "text/plain": [
       "<matplotlib.legend.Legend at 0x2b9dbeb6fbe0>"
      ]
     },
     "execution_count": 21,
     "metadata": {},
     "output_type": "execute_result"
    }
   ],
   "source": [
    "x = np.arange(len(labels))  # the label locations\n",
    "width = 0.2\n",
    "fig, ax = plt.subplots(figsize=(5,5))\n",
    "\n",
    "rects1 = ax.bar(x - width/2, np.array(av_pop)[:,0], width, label='AVISO')\n",
    "rects2 = ax.bar(x + width/2, np.array(av_pop)[:,1], width, label='POP')\n",
    "plt.xlabel(r'$Filterlength~(\\ell)~[km]$', fontsize = 12)\n",
    "plt.ylabel(r'Energy Density [$m^2/sec^2$]', fontsize =12)\n",
    "\n",
    "ax.set_xticks(x)\n",
    "ax.set_xticklabels(labels)\n",
    "#ax.invert_yaxis()\n",
    "plt.legend()"
   ]
  },
  {
   "cell_type": "code",
   "execution_count": null,
   "metadata": {},
   "outputs": [],
   "source": []
  },
  {
   "cell_type": "code",
   "execution_count": 22,
   "metadata": {},
   "outputs": [
    {
     "name": "stdout",
     "output_type": "stream",
     "text": [
      "ymax 0.06212635806575398\n"
     ]
    }
   ],
   "source": [
    "getBarPlot('Gulf')"
   ]
  },
  {
   "cell_type": "code",
   "execution_count": 23,
   "metadata": {},
   "outputs": [],
   "source": [
    "def getLinePlot(region):\n",
    "    av_pop = list([get_bandIntegral(region, 0, 50),\n",
    "                   get_bandIntegral(region, 50, 100),\n",
    "                   get_bandIntegral(region, 100,200),\n",
    "                   get_bandIntegral(region, 200,400),               \n",
    "                  ])       \n",
    "                   \n",
    "    labels = [\"(0, 50)\",\n",
    "             \"(50, 100)\",\n",
    "             \"(100,200)\",\n",
    "             \"(200, 400)\"]\n",
    "    \n",
    "    x = np.arange(len(labels))  # the label locations\n",
    "    width = 0.4\n",
    "    fig, ax = plt.subplots(figsize=(5,3))\n",
    "    ax.set_rasterization_zorder(0)\n",
    "\n",
    "\n",
    "    line1 = ax.plot(x , np.array(av_pop)[:,0],label='AVISO')\n",
    "    line2 = ax.plot(x , np.array(av_pop)[:,1],label='POP')\n",
    "    \n",
    "    ymax = np.max(np.array(av_pop))\n",
    "    print('ymax',ymax)\n",
    "    \n",
    "    ax.set_ylim(0,1.10*ymax)\n",
    "    \n",
    "    \n",
    "    plt.xlabel(r'Length-scale$(\\ell)~[km]$', fontsize = 12)\n",
    "    plt.ylabel(r'Energy [$m^2/sec^2$]', fontsize =12)\n",
    "\n",
    "    ax.set_xticks(x)\n",
    "    ax.set_xticklabels(labels)\n",
    "    ax.set_title(RegionName[region])\n",
    "    #ax.invert_yaxis()\n",
    "    plt.legend()\n",
    "    plt.tight_layout()\n",
    "    plt.savefig(region + '_EnergyBand_linePlot.pdf', dpi = 150, format='pdf')"
   ]
  },
  {
   "cell_type": "code",
   "execution_count": 24,
   "metadata": {},
   "outputs": [
    {
     "name": "stdout",
     "output_type": "stream",
     "text": [
      "ymax 0.021317676792543688\n",
      "ymax 0.00728194951935671\n",
      "ymax 0.006800518311984131\n",
      "ymax 0.06212635806575398\n",
      "ymax 0.05344973962544144\n",
      "ymax 0.02492325455235705\n",
      "ymax 0.038317633102328\n"
     ]
    },
    {
     "name": "stderr",
     "output_type": "stream",
     "text": [
      "<ipython-input-23-8bf0267c61f6>:15: RuntimeWarning: More than 20 figures have been opened. Figures created through the pyplot interface (`matplotlib.pyplot.figure`) are retained until explicitly closed and may consume too much memory. (To control this warning, see the rcParam `figure.max_open_warning`).\n",
      "  fig, ax = plt.subplots(figsize=(5,3))\n"
     ]
    }
   ],
   "source": [
    "#getLinePlot('Global')\n",
    "for maskName in maskList:\n",
    "    getLinePlot(maskName)"
   ]
  },
  {
   "cell_type": "code",
   "execution_count": 25,
   "metadata": {},
   "outputs": [
    {
     "ename": "ValueError",
     "evalue": "too many values to unpack (expected 2)",
     "output_type": "error",
     "traceback": [
      "\u001b[0;31m---------------------------------------------------------------------------\u001b[0m",
      "\u001b[0;31mValueError\u001b[0m                                Traceback (most recent call last)",
      "Input \u001b[0;32mIn [25]\u001b[0m, in \u001b[0;36m<cell line: 2>\u001b[0;34m()\u001b[0m\n\u001b[1;32m      1\u001b[0m MKE \u001b[38;5;241m=\u001b[39m np\u001b[38;5;241m.\u001b[39marray(TKEds\u001b[38;5;241m.\u001b[39mvariables[\u001b[38;5;124m'\u001b[39m\u001b[38;5;124mTKE\u001b[39m\u001b[38;5;124m'\u001b[39m])\n\u001b[0;32m----> 2\u001b[0m \u001b[43mplt\u001b[49m\u001b[38;5;241;43m.\u001b[39;49m\u001b[43mpcolormesh\u001b[49m\u001b[43m(\u001b[49m\u001b[43mTKE\u001b[49m\u001b[43m)\u001b[49m\n\u001b[1;32m      3\u001b[0m plt\u001b[38;5;241m.\u001b[39mclim(\u001b[38;5;241m0\u001b[39m,\u001b[38;5;241m0.5\u001b[39m)\n\u001b[1;32m      4\u001b[0m plt\u001b[38;5;241m.\u001b[39mcolorbar()\n",
      "File \u001b[0;32m/gpfs/fs1/home/srai6/.conda/envs/mpiNetCDF/lib/python3.8/site-packages/matplotlib/pyplot.py:2718\u001b[0m, in \u001b[0;36mpcolormesh\u001b[0;34m(alpha, norm, cmap, vmin, vmax, shading, antialiased, data, *args, **kwargs)\u001b[0m\n\u001b[1;32m   2713\u001b[0m \u001b[38;5;129m@_copy_docstring_and_deprecators\u001b[39m(Axes\u001b[38;5;241m.\u001b[39mpcolormesh)\n\u001b[1;32m   2714\u001b[0m \u001b[38;5;28;01mdef\u001b[39;00m \u001b[38;5;21mpcolormesh\u001b[39m(\n\u001b[1;32m   2715\u001b[0m         \u001b[38;5;241m*\u001b[39margs, alpha\u001b[38;5;241m=\u001b[39m\u001b[38;5;28;01mNone\u001b[39;00m, norm\u001b[38;5;241m=\u001b[39m\u001b[38;5;28;01mNone\u001b[39;00m, cmap\u001b[38;5;241m=\u001b[39m\u001b[38;5;28;01mNone\u001b[39;00m, vmin\u001b[38;5;241m=\u001b[39m\u001b[38;5;28;01mNone\u001b[39;00m,\n\u001b[1;32m   2716\u001b[0m         vmax\u001b[38;5;241m=\u001b[39m\u001b[38;5;28;01mNone\u001b[39;00m, shading\u001b[38;5;241m=\u001b[39m\u001b[38;5;28;01mNone\u001b[39;00m, antialiased\u001b[38;5;241m=\u001b[39m\u001b[38;5;28;01mFalse\u001b[39;00m, data\u001b[38;5;241m=\u001b[39m\u001b[38;5;28;01mNone\u001b[39;00m,\n\u001b[1;32m   2717\u001b[0m         \u001b[38;5;241m*\u001b[39m\u001b[38;5;241m*\u001b[39mkwargs):\n\u001b[0;32m-> 2718\u001b[0m     __ret \u001b[38;5;241m=\u001b[39m \u001b[43mgca\u001b[49m\u001b[43m(\u001b[49m\u001b[43m)\u001b[49m\u001b[38;5;241;43m.\u001b[39;49m\u001b[43mpcolormesh\u001b[49m\u001b[43m(\u001b[49m\n\u001b[1;32m   2719\u001b[0m \u001b[43m        \u001b[49m\u001b[38;5;241;43m*\u001b[39;49m\u001b[43margs\u001b[49m\u001b[43m,\u001b[49m\u001b[43m \u001b[49m\u001b[43malpha\u001b[49m\u001b[38;5;241;43m=\u001b[39;49m\u001b[43malpha\u001b[49m\u001b[43m,\u001b[49m\u001b[43m \u001b[49m\u001b[43mnorm\u001b[49m\u001b[38;5;241;43m=\u001b[39;49m\u001b[43mnorm\u001b[49m\u001b[43m,\u001b[49m\u001b[43m \u001b[49m\u001b[43mcmap\u001b[49m\u001b[38;5;241;43m=\u001b[39;49m\u001b[43mcmap\u001b[49m\u001b[43m,\u001b[49m\u001b[43m \u001b[49m\u001b[43mvmin\u001b[49m\u001b[38;5;241;43m=\u001b[39;49m\u001b[43mvmin\u001b[49m\u001b[43m,\u001b[49m\n\u001b[1;32m   2720\u001b[0m \u001b[43m        \u001b[49m\u001b[43mvmax\u001b[49m\u001b[38;5;241;43m=\u001b[39;49m\u001b[43mvmax\u001b[49m\u001b[43m,\u001b[49m\u001b[43m \u001b[49m\u001b[43mshading\u001b[49m\u001b[38;5;241;43m=\u001b[39;49m\u001b[43mshading\u001b[49m\u001b[43m,\u001b[49m\u001b[43m \u001b[49m\u001b[43mantialiased\u001b[49m\u001b[38;5;241;43m=\u001b[39;49m\u001b[43mantialiased\u001b[49m\u001b[43m,\u001b[49m\n\u001b[1;32m   2721\u001b[0m \u001b[43m        \u001b[49m\u001b[38;5;241;43m*\u001b[39;49m\u001b[38;5;241;43m*\u001b[39;49m\u001b[43m(\u001b[49m\u001b[43m{\u001b[49m\u001b[38;5;124;43m\"\u001b[39;49m\u001b[38;5;124;43mdata\u001b[39;49m\u001b[38;5;124;43m\"\u001b[39;49m\u001b[43m:\u001b[49m\u001b[43m \u001b[49m\u001b[43mdata\u001b[49m\u001b[43m}\u001b[49m\u001b[43m \u001b[49m\u001b[38;5;28;43;01mif\u001b[39;49;00m\u001b[43m \u001b[49m\u001b[43mdata\u001b[49m\u001b[43m \u001b[49m\u001b[38;5;129;43;01mis\u001b[39;49;00m\u001b[43m \u001b[49m\u001b[38;5;129;43;01mnot\u001b[39;49;00m\u001b[43m \u001b[49m\u001b[38;5;28;43;01mNone\u001b[39;49;00m\u001b[43m \u001b[49m\u001b[38;5;28;43;01melse\u001b[39;49;00m\u001b[43m \u001b[49m\u001b[43m{\u001b[49m\u001b[43m}\u001b[49m\u001b[43m)\u001b[49m\u001b[43m,\u001b[49m\u001b[43m \u001b[49m\u001b[38;5;241;43m*\u001b[39;49m\u001b[38;5;241;43m*\u001b[39;49m\u001b[43mkwargs\u001b[49m\u001b[43m)\u001b[49m\n\u001b[1;32m   2722\u001b[0m     sci(__ret)\n\u001b[1;32m   2723\u001b[0m     \u001b[38;5;28;01mreturn\u001b[39;00m __ret\n",
      "File \u001b[0;32m/gpfs/fs1/home/srai6/.conda/envs/mpiNetCDF/lib/python3.8/site-packages/matplotlib/__init__.py:1412\u001b[0m, in \u001b[0;36m_preprocess_data.<locals>.inner\u001b[0;34m(ax, data, *args, **kwargs)\u001b[0m\n\u001b[1;32m   1409\u001b[0m \u001b[38;5;129m@functools\u001b[39m\u001b[38;5;241m.\u001b[39mwraps(func)\n\u001b[1;32m   1410\u001b[0m \u001b[38;5;28;01mdef\u001b[39;00m \u001b[38;5;21minner\u001b[39m(ax, \u001b[38;5;241m*\u001b[39margs, data\u001b[38;5;241m=\u001b[39m\u001b[38;5;28;01mNone\u001b[39;00m, \u001b[38;5;241m*\u001b[39m\u001b[38;5;241m*\u001b[39mkwargs):\n\u001b[1;32m   1411\u001b[0m     \u001b[38;5;28;01mif\u001b[39;00m data \u001b[38;5;129;01mis\u001b[39;00m \u001b[38;5;28;01mNone\u001b[39;00m:\n\u001b[0;32m-> 1412\u001b[0m         \u001b[38;5;28;01mreturn\u001b[39;00m \u001b[43mfunc\u001b[49m\u001b[43m(\u001b[49m\u001b[43max\u001b[49m\u001b[43m,\u001b[49m\u001b[43m \u001b[49m\u001b[38;5;241;43m*\u001b[39;49m\u001b[38;5;28;43mmap\u001b[39;49m\u001b[43m(\u001b[49m\u001b[43msanitize_sequence\u001b[49m\u001b[43m,\u001b[49m\u001b[43m \u001b[49m\u001b[43margs\u001b[49m\u001b[43m)\u001b[49m\u001b[43m,\u001b[49m\u001b[43m \u001b[49m\u001b[38;5;241;43m*\u001b[39;49m\u001b[38;5;241;43m*\u001b[39;49m\u001b[43mkwargs\u001b[49m\u001b[43m)\u001b[49m\n\u001b[1;32m   1414\u001b[0m     bound \u001b[38;5;241m=\u001b[39m new_sig\u001b[38;5;241m.\u001b[39mbind(ax, \u001b[38;5;241m*\u001b[39margs, \u001b[38;5;241m*\u001b[39m\u001b[38;5;241m*\u001b[39mkwargs)\n\u001b[1;32m   1415\u001b[0m     auto_label \u001b[38;5;241m=\u001b[39m (bound\u001b[38;5;241m.\u001b[39marguments\u001b[38;5;241m.\u001b[39mget(label_namer)\n\u001b[1;32m   1416\u001b[0m                   \u001b[38;5;129;01mor\u001b[39;00m bound\u001b[38;5;241m.\u001b[39mkwargs\u001b[38;5;241m.\u001b[39mget(label_namer))\n",
      "File \u001b[0;32m/gpfs/fs1/home/srai6/.conda/envs/mpiNetCDF/lib/python3.8/site-packages/matplotlib/axes/_axes.py:6062\u001b[0m, in \u001b[0;36mAxes.pcolormesh\u001b[0;34m(self, alpha, norm, cmap, vmin, vmax, shading, antialiased, *args, **kwargs)\u001b[0m\n\u001b[1;32m   6059\u001b[0m shading \u001b[38;5;241m=\u001b[39m shading\u001b[38;5;241m.\u001b[39mlower()\n\u001b[1;32m   6060\u001b[0m kwargs\u001b[38;5;241m.\u001b[39msetdefault(\u001b[38;5;124m'\u001b[39m\u001b[38;5;124medgecolors\u001b[39m\u001b[38;5;124m'\u001b[39m, \u001b[38;5;124m'\u001b[39m\u001b[38;5;124mnone\u001b[39m\u001b[38;5;124m'\u001b[39m)\n\u001b[0;32m-> 6062\u001b[0m X, Y, C, shading \u001b[38;5;241m=\u001b[39m \u001b[38;5;28;43mself\u001b[39;49m\u001b[38;5;241;43m.\u001b[39;49m\u001b[43m_pcolorargs\u001b[49m\u001b[43m(\u001b[49m\u001b[38;5;124;43m'\u001b[39;49m\u001b[38;5;124;43mpcolormesh\u001b[39;49m\u001b[38;5;124;43m'\u001b[39;49m\u001b[43m,\u001b[49m\u001b[43m \u001b[49m\u001b[38;5;241;43m*\u001b[39;49m\u001b[43margs\u001b[49m\u001b[43m,\u001b[49m\n\u001b[1;32m   6063\u001b[0m \u001b[43m                                    \u001b[49m\u001b[43mshading\u001b[49m\u001b[38;5;241;43m=\u001b[39;49m\u001b[43mshading\u001b[49m\u001b[43m,\u001b[49m\u001b[43m \u001b[49m\u001b[43mkwargs\u001b[49m\u001b[38;5;241;43m=\u001b[39;49m\u001b[43mkwargs\u001b[49m\u001b[43m)\u001b[49m\n\u001b[1;32m   6064\u001b[0m coords \u001b[38;5;241m=\u001b[39m np\u001b[38;5;241m.\u001b[39mstack([X, Y], axis\u001b[38;5;241m=\u001b[39m\u001b[38;5;241m-\u001b[39m\u001b[38;5;241m1\u001b[39m)\n\u001b[1;32m   6065\u001b[0m \u001b[38;5;66;03m# convert to one dimensional array\u001b[39;00m\n",
      "File \u001b[0;32m/gpfs/fs1/home/srai6/.conda/envs/mpiNetCDF/lib/python3.8/site-packages/matplotlib/axes/_axes.py:5521\u001b[0m, in \u001b[0;36mAxes._pcolorargs\u001b[0;34m(self, funcname, shading, *args, **kwargs)\u001b[0m\n\u001b[1;32m   5519\u001b[0m \u001b[38;5;28;01mif\u001b[39;00m \u001b[38;5;28mlen\u001b[39m(args) \u001b[38;5;241m==\u001b[39m \u001b[38;5;241m1\u001b[39m:\n\u001b[1;32m   5520\u001b[0m     C \u001b[38;5;241m=\u001b[39m np\u001b[38;5;241m.\u001b[39masanyarray(args[\u001b[38;5;241m0\u001b[39m])\n\u001b[0;32m-> 5521\u001b[0m     nrows, ncols \u001b[38;5;241m=\u001b[39m C\u001b[38;5;241m.\u001b[39mshape\n\u001b[1;32m   5522\u001b[0m     \u001b[38;5;28;01mif\u001b[39;00m shading \u001b[38;5;129;01min\u001b[39;00m [\u001b[38;5;124m'\u001b[39m\u001b[38;5;124mgouraud\u001b[39m\u001b[38;5;124m'\u001b[39m, \u001b[38;5;124m'\u001b[39m\u001b[38;5;124mnearest\u001b[39m\u001b[38;5;124m'\u001b[39m]:\n\u001b[1;32m   5523\u001b[0m         X, Y \u001b[38;5;241m=\u001b[39m np\u001b[38;5;241m.\u001b[39mmeshgrid(np\u001b[38;5;241m.\u001b[39marange(ncols), np\u001b[38;5;241m.\u001b[39marange(nrows))\n",
      "\u001b[0;31mValueError\u001b[0m: too many values to unpack (expected 2)"
     ]
    }
   ],
   "source": [
    "MKE = np.array(TKEds.variables['TKE'])\n",
    "plt.pcolormesh(TKE)\n",
    "plt.clim(0,0.5)\n",
    "plt.colorbar()"
   ]
  },
  {
   "cell_type": "code",
   "execution_count": null,
   "metadata": {},
   "outputs": [],
   "source": [
    "MKE = np.array(TKEds.variables['MKE'])\n",
    "plt.pcolormesh(MKE)\n",
    "plt.clim(0,0.1)\n",
    "plt.colorbar()"
   ]
  },
  {
   "cell_type": "code",
   "execution_count": null,
   "metadata": {},
   "outputs": [],
   "source": [
    "EKE = np.array(TKEds.variables['EKE'])\n",
    "plt.pcolormesh(EKE)\n",
    "plt.clim(0,0.1)\n",
    "plt.colorbar()"
   ]
  },
  {
   "cell_type": "code",
   "execution_count": null,
   "metadata": {},
   "outputs": [],
   "source": [
    "gulf_POP = np.array(maskDs2.variables['Gulf'])"
   ]
  },
  {
   "cell_type": "code",
   "execution_count": null,
   "metadata": {},
   "outputs": [],
   "source": [
    "plt.pcolormesh(gulf_POP)"
   ]
  },
  {
   "cell_type": "code",
   "execution_count": null,
   "metadata": {},
   "outputs": [],
   "source": [
    "TKE = np.array(TKEds_pop.variables['TKE']) * 1e-4\n",
    "MKE = np.array(TKEds_pop.variables['MKE']) * 1e-4\n",
    "EKE = np.array(TKEds_pop.variables['EKE']) * 1e-4\n"
   ]
  },
  {
   "cell_type": "code",
   "execution_count": null,
   "metadata": {},
   "outputs": [],
   "source": []
  }
 ],
 "metadata": {
  "kernelspec": {
   "display_name": "netcdf_env",
   "language": "python",
   "name": "netcdf_env"
  },
  "language_info": {
   "codemirror_mode": {
    "name": "ipython",
    "version": 3
   },
   "file_extension": ".py",
   "mimetype": "text/x-python",
   "name": "python",
   "nbconvert_exporter": "python",
   "pygments_lexer": "ipython3",
   "version": "3.9.12"
  }
 },
 "nbformat": 4,
 "nbformat_minor": 2
}
