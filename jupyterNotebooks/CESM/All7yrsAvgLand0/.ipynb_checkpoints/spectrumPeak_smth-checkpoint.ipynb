{
 "cells": [
  {
   "cell_type": "code",
   "execution_count": 1,
   "metadata": {},
   "outputs": [],
   "source": [
    "from netCDF4 import Dataset\n",
    "import numpy as np\n",
    "import matplotlib.pyplot as plt\n",
    "%matplotlib inline"
   ]
  },
  {
   "cell_type": "code",
   "execution_count": null,
   "metadata": {},
   "outputs": [],
   "source": [
    "gridDS= Dataset('/scratch/srai6/EddyKillingPaper3/CESM/all7yrs_land0/tripoleGridCreated.nc')\n",
    "KMT = np.array(gridDS.variables['KMT'])\n",
    "UAREA = np.array(gridDS.variables['UAREA'])\n",
    "ULAT = np.array(gridDS.variables['ULAT'])\n",
    "ULONG = np.array(gridDS.variables['ULONG'])\n",
    "landMask = KMT < 1\n",
    "landMask += abs(ULAT)<=3\n",
    "\n"
   ]
  }
 ],
 "metadata": {
  "kernelspec": {
   "display_name": "netcdf_env",
   "language": "python",
   "name": "netcdf_env"
  },
  "language_info": {
   "codemirror_mode": {
    "name": "ipython",
    "version": 3
   },
   "file_extension": ".py",
   "mimetype": "text/x-python",
   "name": "python",
   "nbconvert_exporter": "python",
   "pygments_lexer": "ipython3",
   "version": "3.9.12"
  }
 },
 "nbformat": 4,
 "nbformat_minor": 2
}
