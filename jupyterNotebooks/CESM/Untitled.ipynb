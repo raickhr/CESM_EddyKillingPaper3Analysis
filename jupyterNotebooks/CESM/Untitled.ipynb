{
 "cells": [
  {
   "cell_type": "code",
   "execution_count": 1,
   "metadata": {},
   "outputs": [],
   "source": [
    "from netCDF4 import Dataset\n",
    "import numpy as np\n",
    "import matplotlib.pyplot as plt\n",
    "%matplotlib inline"
   ]
  },
  {
   "cell_type": "code",
   "execution_count": 3,
   "metadata": {},
   "outputs": [],
   "source": [
    "ds = Dataset('test.nc', 'w', format='NETCDF4_CLASSIC')\n",
    "arr = np.zeros((1, 720,1440), dtype=float)\n",
    "arr[0,360,720] = 10.0\n",
    "\n",
    "ds.createDimension('lat', 720)\n",
    "ds.createDimension('lon', 1440)\n",
    "ds.createDimension('time',1)\n",
    "\n",
    "var = ds.createVariable('UGOS', float, ('time', 'lat', 'lon'))\n",
    "var[:,:,:] = arr\n",
    "\n",
    "ds.close()\n"
   ]
  },
  {
   "cell_type": "code",
   "execution_count": 44,
   "metadata": {},
   "outputs": [],
   "source": [
    "lon = np.radians(np.arange(0.125,360,0.25))\n",
    "lat = np.radians(np.arange(-89.875,90,0.25))\n",
    "\n",
    "dlambda = np.radians(0.25)\n",
    "dphi = np.radians(0.25)\n",
    "\n",
    "LON, LAT = np.meshgrid(lon, lat)\n",
    "R = 6378100\n",
    "\n",
    "DX = R*np.cos(LAT)*dlambda\n",
    "DY = np.array(len(lat)*[len(lon)*[R*dphi]], dtype=float)"
   ]
  },
  {
   "cell_type": "code",
   "execution_count": 45,
   "metadata": {},
   "outputs": [],
   "source": [
    "X = R*(lon-lon[720])/1e3\n",
    "Y = R*(lat-lat[360])/1e3"
   ]
  },
  {
   "cell_type": "code",
   "execution_count": 46,
   "metadata": {},
   "outputs": [],
   "source": [
    "ds=Dataset('test.nc_1000._Filtered.nc')\n",
    "u = np.array(ds.variables['UVEL'])"
   ]
  },
  {
   "cell_type": "code",
   "execution_count": 48,
   "metadata": {},
   "outputs": [
    {
     "data": {
      "text/plain": [
       "<matplotlib.collections.QuadMesh at 0x2ab18afd9910>"
      ]
     },
     "execution_count": 48,
     "metadata": {},
     "output_type": "execute_result"
    },
    {
     "data": {
      "image/png": "[encoded data removed]",
      "text/plain": [
       "<Figure size 640x480 with 1 Axes>"
      ]
     },
     "metadata": {},
     "output_type": "display_data"
    }
   ],
   "source": [
    "x1, x2= 700, 740\n",
    "y1, y2 = 340, 380\n",
    "plt.pcolormesh(X[x1:x2], Y[y1:y2], u[y1:y2,x1:x2])"
   ]
  },
  {
   "cell_type": "code",
   "execution_count": null,
   "metadata": {},
   "outputs": [],
   "source": []
  },
  {
   "cell_type": "code",
   "execution_count": null,
   "metadata": {},
   "outputs": [],
   "source": []
  }
 ],
 "metadata": {
  "kernelspec": {
   "display_name": "netcdf_env",
   "language": "python",
   "name": "netcdf_env"
  },
  "language_info": {
   "codemirror_mode": {
    "name": "ipython",
    "version": 3
   },
   "file_extension": ".py",
   "mimetype": "text/x-python",
   "name": "python",
   "nbconvert_exporter": "python",
   "pygments_lexer": "ipython3",
   "version": "3.9.12"
  }
 },
 "nbformat": 4,
 "nbformat_minor": 2
}
